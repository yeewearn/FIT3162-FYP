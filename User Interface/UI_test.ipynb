{
 "cells": [
  {
   "cell_type": "code",
   "execution_count": 1,
   "metadata": {},
   "outputs": [
    {
     "name": "stdout",
     "output_type": "stream",
     "text": [
      "importing Jupyter notebook from UserInterface.ipynb\n"
     ]
    },
    {
     "name": "stderr",
     "output_type": "stream",
     "text": [
      "test_check_punc_num (__main__.UI_test) ... ok\n",
      "test_lemmatize_it (__main__.UI_test) ... ok\n",
      "test_preprocess (__main__.UI_test) ... ok\n",
      "test_preprocessing_text (__main__.UI_test) ... ok\n",
      "test_print_rating (__main__.UI_test) ... ok\n",
      "test_wordnet_pos (__main__.UI_test) ... ok\n",
      "\n",
      "----------------------------------------------------------------------\n",
      "Ran 6 tests in 2.526s\n",
      "\n",
      "OK\n"
     ]
    },
    {
     "data": {
      "text/plain": [
       "<unittest.runner.TextTestResult run=6 errors=0 failures=0>"
      ]
     },
     "execution_count": 1,
     "metadata": {},
     "output_type": "execute_result"
    }
   ],
   "source": [
    "import unittest\n",
    "import import_ipynb\n",
    "from UserInterface import get_wordnet_pos,preprocess,lemmatize_it,preprocessing_text,check_punc_num,print_rating\n",
    "\n",
    "\n",
    "class UI_test(unittest.TestCase):\n",
    "\n",
    "    def test_wordnet_pos(self):\n",
    "        self.assertEqual(get_wordnet_pos(\"playing\"), \"v\")\n",
    "        self.assertEqual(get_wordnet_pos(\"son\"),\"n\")\n",
    "        self.assertEqual(get_wordnet_pos(\"heavy\"),\"a\")\n",
    "        self.assertNotEqual(get_wordnet_pos(\"daughter\"),\"a\")\n",
    "        \n",
    "    def test_preprocess(self):\n",
    "        self.assertEqual(preprocess(\"This ! is @ test 2 Remove ( numBers and punctuations),.\"),['test', 'remove', 'numbers', 'punctuations'])\n",
    "        self.assertNotEqual(preprocess(\"How @ aRe you! 234\"),['How','@','aRe','you!','234'])\n",
    "        \n",
    "    def test_lemmatize_it(self):\n",
    "        self.assertEqual(lemmatize_it(['playing','amazing','sorts','children']),['play','amaze','sort','child'])\n",
    "        self.assertNotEqual(lemmatize_it(['sitting']),['sitting'])\n",
    "        \n",
    "    def test_preprocessing_text(self):\n",
    "        self.assertEqual(preprocessing_text(\"This is! just @ test, for pre-processing 1\"),['test', 'preprocessing'])\n",
    "        self.assertNotEqual(preprocessing_text(\"This is! just @ test,11\"),['This','is!','just','@','test,11'])\n",
    "        \n",
    "    def test_check_punc_num(self):\n",
    "        self.assertEqual(check_punc_num(\"123\"),True)\n",
    "        self.assertEqual(check_punc_num(\"!#@\"),True)\n",
    "        self.assertEqual(check_punc_num(\"123@##@\"),True)\n",
    "        self.assertEqual(check_punc_num(\"123 #@42\"),True)\n",
    "        self.assertEqual(check_punc_num(\" \"),True)\n",
    "        self.assertNotEqual(check_punc_num(\"232expensive\"),True)\n",
    "        \n",
    "    def test_print_rating(self):\n",
    "        with self.assertRaises(Exception): print_rating(\"123\")\n",
    "        with self.assertRaises(Exception): print_rating(\"123##\")\n",
    "        with self.assertRaises(Exception): print_rating(\"!@#$\")  \n",
    "        with self.assertRaises(Exception): print_rating(\"123 @#\")\n",
    "        with self.assertRaises(Exception): print_rating(\"\")\n",
    "        \n",
    "        \n",
    "\n",
    "\n",
    "\n",
    "import sys\n",
    "suite = unittest.TestLoader().loadTestsFromTestCase(UI_test)\n",
    "unittest.TextTestRunner(verbosity=4,stream=sys.stderr).run(suite)\n"
   ]
  },
  {
   "cell_type": "code",
   "execution_count": null,
   "metadata": {},
   "outputs": [],
   "source": []
  },
  {
   "cell_type": "code",
   "execution_count": null,
   "metadata": {},
   "outputs": [],
   "source": []
  }
 ],
 "metadata": {
  "kernelspec": {
   "display_name": "Python [conda env:Anaconda3]",
   "language": "python",
   "name": "conda-env-Anaconda3-py"
  },
  "language_info": {
   "codemirror_mode": {
    "name": "ipython",
    "version": 3
   },
   "file_extension": ".py",
   "mimetype": "text/x-python",
   "name": "python",
   "nbconvert_exporter": "python",
   "pygments_lexer": "ipython3",
   "version": "3.5.6"
  }
 },
 "nbformat": 4,
 "nbformat_minor": 2
}
