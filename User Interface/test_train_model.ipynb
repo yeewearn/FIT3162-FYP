{
 "cells": [
  {
   "cell_type": "code",
   "execution_count": 11,
   "metadata": {},
   "outputs": [
    {
     "name": "stderr",
     "output_type": "stream",
     "text": [
      "test_lemmatize_it (__main__.model_test) ... ok\n",
      "test_preprocess (__main__.model_test) ... ok\n",
      "test_wordnet (__main__.model_test) ... ok\n",
      "\n",
      "----------------------------------------------------------------------\n",
      "Ran 3 tests in 0.030s\n",
      "\n",
      "OK\n"
     ]
    },
    {
     "data": {
      "text/plain": [
       "<unittest.runner.TextTestResult run=3 errors=0 failures=0>"
      ]
     },
     "execution_count": 11,
     "metadata": {},
     "output_type": "execute_result"
    }
   ],
   "source": [
    "import unittest\n",
    "import import_ipynb\n",
    "from train_model import get_wordnet_pos, preprocess, lemmatize_it\n",
    "\n",
    "class model_test(unittest.TestCase):\n",
    "    \n",
    "    def test_wordnet(self):\n",
    "        self.assertEqual(get_wordnet_pos(\"playing\"), 'v')\n",
    "        self.assertEqual(get_wordnet_pos(\"son\"), 'n')\n",
    "        self.assertEqual(get_wordnet_pos(\"horrible\"), 'a')\n",
    "        self.assertNotEqual(get_wordnet_pos(\"daughter\"), 'a')\n",
    "        self.assertNotEqual(get_wordnet_pos(\"terrible\"), 'v')\n",
    "        self.assertNotEqual(get_wordnet_pos(\"repurchase\"), 'a')\n",
    "        \n",
    "    def test_preprocess(self):\n",
    "        self.assertEqual(preprocess('Get me a new one, I received it in bad condition!!!!'), ['get', 'new', 'one', 'received', 'bad', 'condition'])\n",
    "        self.assertEqual(preprocess('Horrible product, cheap! useless! bad service..!!!! @.@'), ['horrible', 'product', 'cheap', 'useless', 'bad', 'service'])\n",
    "        self.assertNotEqual(preprocess('This is not that bad, ok quality..,'), ['this', 'is', 'not', 'that', 'bad,', 'ok', 'quality..,'])\n",
    "        self.assertNotEqual(preprocess('I give 5 stars..1,2,3,4,5'), ['i', 'give', '5', 'stars..', '1,2,3,4,5'])        \n",
    "    \n",
    "    def test_lemmatize_it(self):\n",
    "        self.assertEqual(lemmatize_it(['playing','amazing','sorts','children']),['play','amaze','sort','child'])\n",
    "        self.assertEqual(lemmatize_it(['disappointed', 'will', 'not', 'repurchase']), ['disappointed', 'will', 'not', 'repurchase'])\n",
    "        self.assertNotEqual(lemmatize_it(['sitting']),['sitting'])\n",
    "        self.assertNotEqual(lemmatize_it(['taken','for', 'granted', 'hello', 'please', 'return']), ['taken','for', 'granted', 'hello', 'please', 'return'])\n",
    "        \n",
    "import sys\n",
    "suite = unittest.TestLoader().loadTestsFromTestCase(model_test)\n",
    "unittest.TextTestRunner(verbosity=4,stream=sys.stderr).run(suite)"
   ]
  },
  {
   "cell_type": "code",
   "execution_count": null,
   "metadata": {},
   "outputs": [],
   "source": [
    "    "
   ]
  }
 ],
 "metadata": {
  "kernelspec": {
   "display_name": "Python 3",
   "language": "python",
   "name": "python3"
  },
  "language_info": {
   "codemirror_mode": {
    "name": "ipython",
    "version": 3
   },
   "file_extension": ".py",
   "mimetype": "text/x-python",
   "name": "python",
   "nbconvert_exporter": "python",
   "pygments_lexer": "ipython3",
   "version": "3.7.3"
  }
 },
 "nbformat": 4,
 "nbformat_minor": 2
}
