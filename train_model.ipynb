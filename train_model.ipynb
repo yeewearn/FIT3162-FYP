{
 "cells": [
  {
   "cell_type": "code",
   "execution_count": 16,
   "metadata": {},
   "outputs": [
    {
     "name": "stdout",
     "output_type": "stream",
     "text": [
      "   Unnamed: 0                                              title  rating             date                                             author                                             review                product\n",
      "0           0     Worth Buying For The Pictures Alone (As Ever)        4    6 April 2014    By\\n\\n    \\n\\n    Copnovelist\\n\\n  \\n\\n on 6 ...   Part of the magic for me growing up as a boy ...  Hornby 2014 Catalogue\n",
      "1           1              Amazing detail fabulous photography.        5   11 April 2015    By\\n\\n    \\n\\n    richard\\n\\n  \\n\\n on 11 Apr...   Amazing detail, every credit to the photograp...  Hornby 2014 Catalogue\n",
      "2           2                                  'Great Purchase'        5   23 April 2014    By\\n\\n    \\n\\n    Pinkhandbag\\n\\n  \\n\\n on 23...   This was purchased on behalf of my Dad. He is...  Hornby 2014 Catalogue\n",
      "3           3                                   Great Catalogue        5    11 Jun. 2014    By\\n\\n    \\n\\n    Gary John Mapson\\n\\n  \\n\\n ...   Everything I really needed to see what was on...  Hornby 2014 Catalogue\n",
      "4           4   I collect them all as the glossy pictures are...       5     7 Dec. 2014    By\\n\\n    \\n\\n    David Baker\\n\\n  \\n\\n on 7 ...   I collect them all as the glossy pictures are...  Hornby 2014 Catalogue\n"
     ]
    }
   ],
   "source": [
    "import pandas as pd\n",
    "import numpy as np\n",
    "import nltk\n",
    "import re\n",
    "import datetime\n",
    "from nltk.stem import WordNetLemmatizer\n",
    "from nltk.tokenize import word_tokenize\n",
    "from nltk.corpus import wordnet\n",
    "from nltk.corpus import words\n",
    "from nltk.corpus import stopwords\n",
    "from contractions import CONTRACTION_MAP\n",
    "# from stopwords import stop_words\n",
    "from sklearn.feature_extraction.text import TfidfTransformer\n",
    "from sklearn.feature_extraction.text import TfidfVectorizer\n",
    "\n",
    "#Read the csv file\n",
    "dat = pd.read_csv('review_ver2.csv', encoding = \"ISO-8859-1\")\n",
    "\n",
    "# Change the display size\n",
    "pd.set_option('display.max_columns',20)\n",
    "pd.set_option('display.max_rows', 100)\n",
    "pd.set_option('display.width', 1000)\n",
    "\n",
    "print(dat.head(5))"
   ]
  },
  {
   "cell_type": "code",
   "execution_count": 17,
   "metadata": {},
   "outputs": [],
   "source": [
    "def expand_contractions(word):\n",
    "    \"\"\"\n",
    "    This function expands words such as I'll to I will.\n",
    "    :param word: a single review\n",
    "    :returns: the expanded words\n",
    "    \"\"\"\n",
    "    expanded = ' '.join([CONTRACTION_MAP[t] if t in CONTRACTION_MAP else t for t in word.split(\" \") ])\n",
    "    return expanded\n",
    "\n",
    "def get_wordnet_pos(word):\n",
    "    \"\"\"\n",
    "    This function gets the wordnet postag of each words.\n",
    "    :param word: word in each review texts\n",
    "    :returns: the postag of each word \n",
    "    \"\"\"\n",
    "    tag = nltk.pos_tag([word])[0][1][0].upper()\n",
    "    tag_dict = {\"J\": wordnet.ADJ, \"N\":wordnet.NOUN, \"V\":wordnet.VERB, \"R\":wordnet.ADV}\n",
    "    \n",
    "    return tag_dict.get(tag,wordnet.NOUN)\n",
    "    \n",
    "def preprocessing_text(text):\n",
    "    \"\"\"\n",
    "    This function preprocesses the review texts by performing contractions, removing numbers and\n",
    "    punctuations, make all the characters into lowercase, tokenization, lemmatization as well as removing stopwords.\n",
    "    :param text: a single text review\n",
    "    :returns: a list of preprocessed words\n",
    "    \"\"\"\n",
    "    #contractions\n",
    "    expanded_text=expand_contractions(text)\n",
    "    #remove numbers\n",
    "    numbers_removed = re.sub(r'\\d+','',expanded_text)\n",
    "    #remove punctuation\n",
    "    punct_removed = re.sub(r'[^\\w\\s]','',numbers_removed)\n",
    "    #tokenization\n",
    "    tokens = nltk.word_tokenize(punct_removed.lower())\n",
    "    \n",
    "    #remove stop words and lemmatization\n",
    "    lem_words = []\n",
    "    stop_words = set(stopwords.words('english'))\n",
    "    lemmatizer = WordNetLemmatizer()\n",
    "    for word in tokens:\n",
    "        temp_word = lemmatizer.lemmatize(word,get_wordnet_pos(word))\n",
    "        if  temp_word not in stop_words:\n",
    "            lem_words.append(temp_word)\n",
    "\n",
    "    return lem_words\n"
   ]
  },
  {
   "cell_type": "code",
   "execution_count": 30,
   "metadata": {},
   "outputs": [],
   "source": [
    "# def get_bigram(lem_words):\n",
    "#     \"\"\"\n",
    "#     This function gets the bigram of the review texts.\n",
    "#     :param lem_words: a list of preprocessed words\n",
    "#     :returns: a list of bigram words or just a single word (if unable to perform bigram)\n",
    "#     \"\"\"\n",
    "    \n",
    "#     if len(lem_words) <= 1: #the review contains a single word only, hence unable to perform bigram\n",
    "#         return lem_words\n",
    "    \n",
    "#     else:\n",
    "#         #gets the bigram in the form of [('wordA','wordB'),('wordB,'wordC'),...]\n",
    "#         bigrm = list(nltk.bigrams(lem_words))\n",
    "\n",
    "#         #make the bigram in this format ['wordA wordB','wordB wordC',...]\n",
    "#         bigrm_list = []\n",
    "#         separator = ' '\n",
    "#         for i in range(len(bigrm)):\n",
    "#             bigrm_list.append(separator.join(bigrm[i]))   \n",
    "#         return bigrm_list"
   ]
  },
  {
   "cell_type": "code",
   "execution_count": 32,
   "metadata": {},
   "outputs": [],
   "source": [
    "lem_tokens = dat['review'].apply(preprocessing_text)\n",
    "\n",
    "# bigram_list = lem_tokens.apply(get_bigram)\n",
    "\n",
    "# print(lem_tokens[0])"
   ]
  },
  {
   "cell_type": "code",
   "execution_count": 37,
   "metadata": {},
   "outputs": [
    {
     "name": "stdout",
     "output_type": "stream",
     "text": [
      "                                              review  rating\n",
      "0  [part, magic, grow, boy, buy, give, new, hornb...       4\n",
      "1  [amaze, detail, every, credit, photographer, b...       5\n",
      "2  [purchase, behalf, dad, always, ask, look, gau...       5\n",
      "3  [everything, really, need, see, offer, hornby,...       5\n",
      "4  [collect, glossy, picture, great, nice, still,...       5\n",
      "5  [great, book, extremely, useful, insight, futu...       5\n",
      "6  [useful, info, someonelike, start, back, hobby...       5\n",
      "7  [well, produce, good, quality, cataloguesuper,...       5\n",
      "8                  [happy, communication, funkybuys]       4\n",
      "9                                       [great, buy]       5\n"
     ]
    }
   ],
   "source": [
    "\n",
    "df_unigram = pd.DataFrame({'review':lem_tokens})\n",
    "# df_rate = pd.DataFrame({'rating':new_rating})\n",
    "#concatenating the new data frame with ratings column\n",
    "result = pd.concat([df_unigram,dat['rating']],axis=1)\n",
    "print(result.head(10))"
   ]
  },
  {
   "cell_type": "code",
   "execution_count": 34,
   "metadata": {},
   "outputs": [
    {
     "name": "stdout",
     "output_type": "stream",
     "text": [
      "shape of the vectorizer:  (28212, 288098)\n"
     ]
    }
   ],
   "source": [
    "#Calculating the tf-idf values\n",
    "\n",
    "X_train_1 = result['review'].values\n",
    "Y = result['rating'].values\n",
    "\n",
    "def identity_tokenizer(text):\n",
    "    \"\"\"\n",
    "    Just a dummy function.\n",
    "    \"\"\"\n",
    "    return text\n",
    "\n",
    "vectorizer = TfidfVectorizer(tokenizer=identity_tokenizer, analyzer='word',preprocessor = identity_tokenizer,lowercase=True)    \n",
    "X = vectorizer.fit_transform(X_train_1)\n",
    "\n",
    "print(\"shape of the vectorizer: \",X.shape)\n"
   ]
  },
  {
   "cell_type": "code",
   "execution_count": 35,
   "metadata": {},
   "outputs": [
    {
     "name": "stdout",
     "output_type": "stream",
     "text": [
      "(28212, 288098) (28212,)\n",
      "begin 2019-05-23 14:33:21.820161\n",
      "0.921522756273926\n",
      "final end 2019-05-23 14:34:17.519915\n",
      "0:00:55.699754\n"
     ]
    }
   ],
   "source": [
    "\"\"\"\n",
    "Train model\n",
    "\"\"\"\n",
    "from sklearn.model_selection import StratifiedKFold\n",
    "from imblearn.over_sampling import ADASYN\n",
    "from sklearn.metrics import precision_score, recall_score, f1_score, accuracy_score, classification_report,confusion_matrix\n",
    "\n",
    "from sklearn.svm import LinearSVC\n",
    "\n",
    "from sklearn.feature_selection import SelectKBest\n",
    "from sklearn.feature_selection import chi2\n",
    "from imblearn.pipeline import make_pipeline\n",
    "\n",
    "\n",
    "begin = datetime.datetime.now()\n",
    "\n",
    "pipeline = make_pipeline(ADASYN(),LinearSVC())\n",
    "\n",
    "pipeline.fit(X, Y)\n",
    "\n",
    "\n",
    "print(\"duration for training: \",datetime.datetime.now() - begin)"
   ]
  },
  {
   "cell_type": "code",
   "execution_count": 36,
   "metadata": {},
   "outputs": [],
   "source": [
    "# Save the tf-idf model to disk\n",
    "import pickle\n",
    "\n",
    "\n",
    "filename = 'finalized_model.sav'\n",
    "pickle.dump(pipeline, open(filename, 'wb'))\n",
    "pickle.dump(vectorizer.vocabulary_,open(\"feature.pkl\",\"wb\"))"
   ]
  },
  {
   "cell_type": "code",
   "execution_count": null,
   "metadata": {},
   "outputs": [],
   "source": []
  }
 ],
 "metadata": {
  "kernelspec": {
   "display_name": "Python [conda env:Anaconda3]",
   "language": "python",
   "name": "conda-env-Anaconda3-py"
  },
  "language_info": {
   "codemirror_mode": {
    "name": "ipython",
    "version": 3
   },
   "file_extension": ".py",
   "mimetype": "text/x-python",
   "name": "python",
   "nbconvert_exporter": "python",
   "pygments_lexer": "ipython3",
   "version": "3.5.6"
  }
 },
 "nbformat": 4,
 "nbformat_minor": 2
}
