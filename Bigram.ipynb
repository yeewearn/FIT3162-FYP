{
 "cells": [
  {
   "cell_type": "code",
   "execution_count": 1,
   "metadata": {
    "collapsed": false,
    "deletable": true,
    "editable": true,
    "scrolled": true
   },
   "outputs": [],
   "source": [
    "import pandas as pd\n",
    "import numpy as np\n",
    "import nltk\n",
    "import re\n",
    "import string\n",
    "from nltk.stem import WordNetLemmatizer\n",
    "from nltk.tokenize import word_tokenize\n",
    "from nltk.corpus import wordnet\n",
    "from nltk.corpus import words\n",
    "from contractions import CONTRACTION_MAP\n",
    "from stopwords import stop_words\n",
    "\n",
    "dat = pd.read_csv('review_ver2.csv', encoding = \"ISO-8859-1\")"
   ]
  },
  {
   "cell_type": "code",
   "execution_count": 2,
   "metadata": {
    "collapsed": false,
    "deletable": true,
    "editable": true
   },
   "outputs": [],
   "source": [
    "#this function expands words such as I'll to I will\n",
    "def expand_contractions(word):\n",
    "    expanded = ' '.join([CONTRACTION_MAP[t] if t in CONTRACTION_MAP else t for t in word.split(\" \") ])\n",
    "    return expanded"
   ]
  },
  {
   "cell_type": "code",
   "execution_count": 22,
   "metadata": {
    "collapsed": false,
    "deletable": true,
    "editable": true,
    "scrolled": false
   },
   "outputs": [],
   "source": [
    "#this function gets the wordnet pos tag\n",
    "def get_wordnet_pos(word):\n",
    "    tag = nltk.pos_tag([word])[0][1][0].upper()\n",
    "    tag_dict = {\"J\": wordnet.ADJ, \"N\":wordnet.NOUN, \"V\":wordnet.VERB, \"R\":wordnet.ADV}\n",
    "    \n",
    "    return tag_dict.get(tag,wordnet.NOUN)\n",
    "    \n",
    "#this function preprocesses the review texts\n",
    "def preprocessing_text(text):\n",
    "    #contractions\n",
    "    expanded_text=expand_contractions(text)\n",
    "    #remove numbers\n",
    "    numbers_removed = re.sub(r'\\d+','',expanded_text)\n",
    "    #remove punctuation\n",
    "    punct_removed = re.sub(r'[^\\w\\s]','',numbers_removed)\n",
    "    #tokenization\n",
    "    tokens = nltk.word_tokenize(punct_removed.lower())\n",
    "    \n",
    "    #remove stop words and lemmatization\n",
    "    lem_words = []\n",
    "    lemmatizer = WordNetLemmatizer()\n",
    "    for word in tokens:\n",
    "        temp_word = lemmatizer.lemmatize(word,get_wordnet_pos(word))\n",
    "        if  temp_word not in stop_words:\n",
    "            lem_words.append(temp_word)\n",
    "\n",
    "    return lem_words\n"
   ]
  },
  {
   "cell_type": "code",
   "execution_count": 23,
   "metadata": {
    "collapsed": true,
    "deletable": true,
    "editable": true
   },
   "outputs": [],
   "source": [
    "#this function gets the bigram of the review texts\n",
    "def get_bigram(lem_words):\n",
    "    \n",
    "    if len(lem_words) <= 1: #meaning token is just one, unable to perform bigram\n",
    "        return lem_words\n",
    "    \n",
    "    else:\n",
    "        #bigram is in the form of [('wordA','wordB'),('wordB,'wordC'),...]\n",
    "        bigrm = list(nltk.bigrams(lem_words))\n",
    "\n",
    "        #make the bigram in this format ['wordA wordB','wordB wordC',...]\n",
    "        bigrm_list = []\n",
    "        separator = ' '\n",
    "        for i in range(len(bigrm)):\n",
    "            bigrm_list.append(separator.join(bigrm[i]))   \n",
    "        return bigrm_list"
   ]
  },
  {
   "cell_type": "code",
   "execution_count": 26,
   "metadata": {
    "collapsed": true,
    "deletable": true,
    "editable": true
   },
   "outputs": [
    {
     "name": "stdout",
     "output_type": "stream",
     "text": [
      "hohoho\n"
     ]
    },
    {
     "ename": "TypeError",
     "evalue": "write() argument must be str, not Series",
     "output_type": "error",
     "traceback": [
      "\u001b[1;31m---------------------------------------------------------------------------\u001b[0m",
      "\u001b[1;31mTypeError\u001b[0m                                 Traceback (most recent call last)",
      "\u001b[1;32m<ipython-input-26-4e8ab0c3c357>\u001b[0m in \u001b[0;36m<module>\u001b[1;34m()\u001b[0m\n\u001b[0;32m      5\u001b[0m \u001b[1;33m\u001b[0m\u001b[0m\n\u001b[0;32m      6\u001b[0m \u001b[0mf\u001b[0m \u001b[1;33m=\u001b[0m \u001b[0mopen\u001b[0m\u001b[1;33m(\u001b[0m\u001b[1;34m'bigram_list.txt'\u001b[0m\u001b[1;33m,\u001b[0m\u001b[1;34m'w'\u001b[0m\u001b[1;33m)\u001b[0m\u001b[1;33m\u001b[0m\u001b[0m\n\u001b[1;32m----> 7\u001b[1;33m \u001b[0mf\u001b[0m\u001b[1;33m.\u001b[0m\u001b[0mwrite\u001b[0m\u001b[1;33m(\u001b[0m\u001b[0mbigram_list\u001b[0m\u001b[1;33m)\u001b[0m\u001b[1;33m\u001b[0m\u001b[0m\n\u001b[0m\u001b[0;32m      8\u001b[0m \u001b[0mf\u001b[0m\u001b[1;33m.\u001b[0m\u001b[0mclose\u001b[0m\u001b[1;33m(\u001b[0m\u001b[1;33m)\u001b[0m\u001b[1;33m\u001b[0m\u001b[0m\n\u001b[0;32m      9\u001b[0m \u001b[1;33m\u001b[0m\u001b[0m\n",
      "\u001b[1;31mTypeError\u001b[0m: write() argument must be str, not Series"
     ]
    }
   ],
   "source": [
    "#applies the preprocessing_text function on all items in the review column\n",
    "lem_tokens = dat['review'].apply(preprocessing_text)\n",
    "#applies the get_bigram function on all the items in the review column\n",
    "bigram_list = lem_tokens.apply(get_bigram)"
   ]
  },
  {
   "cell_type": "code",
   "execution_count": 41,
   "metadata": {
    "collapsed": false,
    "deletable": true,
    "editable": true,
    "scrolled": true
   },
   "outputs": [],
   "source": [
    "#putting the series of review texts into data frame\n",
    "df_bigram = bigram_list.to_frame()\n",
    "#concatenating the new data frame with ratings column\n",
    "result = pd.concat([df_bigram,dat['rating']],axis=1)\n",
    "\n",
    "export_csv = result.to_csv('bigram_list.csv', sep=',')"
   ]
  },
  {
   "cell_type": "code",
   "execution_count": null,
   "metadata": {
    "collapsed": false,
    "deletable": true,
    "editable": true
   },
   "outputs": [],
   "source": []
  },
  {
   "cell_type": "code",
   "execution_count": null,
   "metadata": {
    "collapsed": false,
    "deletable": true,
    "editable": true
   },
   "outputs": [],
   "source": [
    "\n"
   ]
  },
  {
   "cell_type": "code",
   "execution_count": null,
   "metadata": {
    "collapsed": true
   },
   "outputs": [],
   "source": []
  }
 ],
 "metadata": {
  "anaconda-cloud": {},
  "kernelspec": {
   "display_name": "Python [Anaconda3]",
   "language": "python",
   "name": "Python [Anaconda3]"
  },
  "language_info": {
   "codemirror_mode": {
    "name": "ipython",
    "version": 3
   },
   "file_extension": ".py",
   "mimetype": "text/x-python",
   "name": "python",
   "nbconvert_exporter": "python",
   "pygments_lexer": "ipython3",
   "version": "3.5.2"
  }
 },
 "nbformat": 4,
 "nbformat_minor": 0
}
