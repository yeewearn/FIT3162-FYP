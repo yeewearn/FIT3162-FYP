{
 "cells": [
  {
   "cell_type": "code",
   "execution_count": 24,
   "metadata": {},
   "outputs": [],
   "source": [
    "import pandas as pd\n",
    "import numpy as np\n",
    "import nltk\n",
    "dat = pd.read_csv('amazon_co-ecommerce_sample.csv')\n",
    "#dat.head(5)"
   ]
  },
  {
   "cell_type": "code",
   "execution_count": 25,
   "metadata": {},
   "outputs": [],
   "source": [
    "# Keep only attributes that are important for the analysis\n",
    "toys = dat[[\"product_name\", \"price\", \"average_review_rating\", \"customers_who_bought_this_item_also_bought\", \"customer_reviews\"]]\n",
    "# Change the display size\n",
    "pd.set_option('display.max_columns',20)\n",
    "pd.set_option('display.max_rows', 100)\n",
    "pd.set_option('display.width', 1000)\n",
    "toys = toys.dropna(subset = ['average_review_rating', \"customers_who_bought_this_item_also_bought\", \"customer_reviews\"])\n",
    "toys = pd.DataFrame(data=toys)\n",
    "#print(toys)"
   ]
  },
  {
   "cell_type": "code",
   "execution_count": 26,
   "metadata": {},
   "outputs": [],
   "source": [
    "def separator(text):\n",
    "    split_str = text.split('|') \n",
    "    return split_str"
   ]
  },
  {
   "cell_type": "code",
   "execution_count": 27,
   "metadata": {},
   "outputs": [
    {
     "data": {
      "text/html": [
       "<div>\n",
       "<style scoped>\n",
       "    .dataframe tbody tr th:only-of-type {\n",
       "        vertical-align: middle;\n",
       "    }\n",
       "\n",
       "    .dataframe tbody tr th {\n",
       "        vertical-align: top;\n",
       "    }\n",
       "\n",
       "    .dataframe thead th {\n",
       "        text-align: right;\n",
       "    }\n",
       "</style>\n",
       "<table border=\"1\" class=\"dataframe\">\n",
       "  <thead>\n",
       "    <tr style=\"text-align: right;\">\n",
       "      <th></th>\n",
       "      <th>product_name</th>\n",
       "      <th>price</th>\n",
       "      <th>average_review_rating</th>\n",
       "      <th>customers_who_bought_this_item_also_bought</th>\n",
       "      <th>customer_reviews</th>\n",
       "    </tr>\n",
       "  </thead>\n",
       "  <tbody>\n",
       "    <tr>\n",
       "      <th>0</th>\n",
       "      <td>Hornby 2014 Catalogue</td>\n",
       "      <td>£3.42</td>\n",
       "      <td>4.9 out of 5 stars</td>\n",
       "      <td>http://www.amazon.co.uk/Hornby-R8150-Catalogue...</td>\n",
       "      <td>[Worth Buying For The Pictures Alone (As Ever)...</td>\n",
       "    </tr>\n",
       "    <tr>\n",
       "      <th>1</th>\n",
       "      <td>FunkyBuys® Large Christmas Holiday Express Fes...</td>\n",
       "      <td>£16.99</td>\n",
       "      <td>4.5 out of 5 stars</td>\n",
       "      <td>http://www.amazon.co.uk/Christmas-Holiday-Expr...</td>\n",
       "      <td>[Four Stars // 4.0 // 18 Dec. 2015 // By      ...</td>\n",
       "    </tr>\n",
       "    <tr>\n",
       "      <th>2</th>\n",
       "      <td>CLASSIC TOY TRAIN SET TRACK CARRIAGES LIGHT EN...</td>\n",
       "      <td>£9.99</td>\n",
       "      <td>3.9 out of 5 stars</td>\n",
       "      <td>http://www.amazon.co.uk/Classic-Train-Lights-B...</td>\n",
       "      <td>[**Highly Recommended!** // 5.0 // 26 May 2015...</td>\n",
       "    </tr>\n",
       "    <tr>\n",
       "      <th>4</th>\n",
       "      <td>Hornby 00 Gauge 0-4-0 Gildenlow Salt Co. Steam...</td>\n",
       "      <td>£32.19</td>\n",
       "      <td>4.7 out of 5 stars</td>\n",
       "      <td>http://www.amazon.co.uk/Hornby-R6367-RailRoad-...</td>\n",
       "      <td>[Birthday present // 5.0 // 14 April 2014 // B...</td>\n",
       "    </tr>\n",
       "    <tr>\n",
       "      <th>5</th>\n",
       "      <td>20pcs Model Garden Light Double Heads Lamppost...</td>\n",
       "      <td>£6.99</td>\n",
       "      <td>5.0 out of 5 stars</td>\n",
       "      <td>http://www.amazon.co.uk/Single-Head-Garden-Lig...</td>\n",
       "      <td>[Five Stars // 5.0 // 27 Dec. 2014 // By      ...</td>\n",
       "    </tr>\n",
       "  </tbody>\n",
       "</table>\n",
       "</div>"
      ],
      "text/plain": [
       "                                        product_name   price average_review_rating         customers_who_bought_this_item_also_bought                                   customer_reviews\n",
       "0                              Hornby 2014 Catalogue   £3.42    4.9 out of 5 stars  http://www.amazon.co.uk/Hornby-R8150-Catalogue...  [Worth Buying For The Pictures Alone (As Ever)...\n",
       "1  FunkyBuys® Large Christmas Holiday Express Fes...  £16.99    4.5 out of 5 stars  http://www.amazon.co.uk/Christmas-Holiday-Expr...  [Four Stars // 4.0 // 18 Dec. 2015 // By      ...\n",
       "2  CLASSIC TOY TRAIN SET TRACK CARRIAGES LIGHT EN...   £9.99    3.9 out of 5 stars  http://www.amazon.co.uk/Classic-Train-Lights-B...  [**Highly Recommended!** // 5.0 // 26 May 2015...\n",
       "4  Hornby 00 Gauge 0-4-0 Gildenlow Salt Co. Steam...  £32.19    4.7 out of 5 stars  http://www.amazon.co.uk/Hornby-R6367-RailRoad-...  [Birthday present // 5.0 // 14 April 2014 // B...\n",
       "5  20pcs Model Garden Light Double Heads Lamppost...   £6.99    5.0 out of 5 stars  http://www.amazon.co.uk/Single-Head-Garden-Lig...  [Five Stars // 5.0 // 27 Dec. 2014 // By      ..."
      ]
     },
     "execution_count": 27,
     "metadata": {},
     "output_type": "execute_result"
    }
   ],
   "source": [
    "# Remove '\\n'\n",
    "toys['customer_reviews'] = toys['customer_reviews'].apply(lambda x: x.replace('\\n', ''))\n",
    "toys['customer_reviews'] = toys['customer_reviews'].apply(separator)\n",
    "toys.head()"
   ]
  },
  {
   "cell_type": "code",
   "execution_count": 31,
   "metadata": {},
   "outputs": [
    {
     "data": {
      "text/html": [
       "<div>\n",
       "<style scoped>\n",
       "    .dataframe tbody tr th:only-of-type {\n",
       "        vertical-align: middle;\n",
       "    }\n",
       "\n",
       "    .dataframe tbody tr th {\n",
       "        vertical-align: top;\n",
       "    }\n",
       "\n",
       "    .dataframe thead th {\n",
       "        text-align: right;\n",
       "    }\n",
       "</style>\n",
       "<table border=\"1\" class=\"dataframe\">\n",
       "  <thead>\n",
       "    <tr style=\"text-align: right;\">\n",
       "      <th></th>\n",
       "    </tr>\n",
       "  </thead>\n",
       "  <tbody>\n",
       "  </tbody>\n",
       "</table>\n",
       "</div>"
      ],
      "text/plain": [
       "Empty DataFrame\n",
       "Columns: []\n",
       "Index: []"
      ]
     },
     "execution_count": 31,
     "metadata": {},
     "output_type": "execute_result"
    }
   ],
   "source": [
    "review_data = pd.DataFrame()\n",
    "review_data.head()"
   ]
  },
  {
   "cell_type": "code",
   "execution_count": 41,
   "metadata": {},
   "outputs": [],
   "source": [
    "def indi_records(product, reviews):\n",
    "    for i in range(len(reviews)):\n",
    "        #review_data['product_name'] = product\n",
    "        #review_data['reviews'] = reviews[i]\n",
    "        val = reviews[i]\n",
    "        \n",
    "    return product, val"
   ]
  },
  {
   "cell_type": "code",
   "execution_count": 42,
   "metadata": {},
   "outputs": [],
   "source": [
    "afunc = np.vectorize(indi_records)\n",
    "product, review = afunc(toys['product_name'], toys['customer_reviews'])"
   ]
  },
  {
   "cell_type": "code",
   "execution_count": 38,
   "metadata": {},
   "outputs": [
    {
     "data": {
      "text/html": [
       "<div>\n",
       "<style scoped>\n",
       "    .dataframe tbody tr th:only-of-type {\n",
       "        vertical-align: middle;\n",
       "    }\n",
       "\n",
       "    .dataframe tbody tr th {\n",
       "        vertical-align: top;\n",
       "    }\n",
       "\n",
       "    .dataframe thead th {\n",
       "        text-align: right;\n",
       "    }\n",
       "</style>\n",
       "<table border=\"1\" class=\"dataframe\">\n",
       "  <thead>\n",
       "    <tr style=\"text-align: right;\">\n",
       "      <th></th>\n",
       "      <th>product_name</th>\n",
       "      <th>reviews</th>\n",
       "    </tr>\n",
       "  </thead>\n",
       "  <tbody>\n",
       "  </tbody>\n",
       "</table>\n",
       "</div>"
      ],
      "text/plain": [
       "Empty DataFrame\n",
       "Columns: [product_name, reviews]\n",
       "Index: []"
      ]
     },
     "execution_count": 38,
     "metadata": {},
     "output_type": "execute_result"
    }
   ],
   "source": [
    "review_data.head()"
   ]
  },
  {
   "cell_type": "code",
   "execution_count": null,
   "metadata": {},
   "outputs": [],
   "source": []
  }
 ],
 "metadata": {
  "kernelspec": {
   "display_name": "Python 3",
   "language": "python",
   "name": "python3"
  },
  "language_info": {
   "codemirror_mode": {
    "name": "ipython",
    "version": 3
   },
   "file_extension": ".py",
   "mimetype": "text/x-python",
   "name": "python",
   "nbconvert_exporter": "python",
   "pygments_lexer": "ipython3",
   "version": "3.7.0"
  }
 },
 "nbformat": 4,
 "nbformat_minor": 2
}
